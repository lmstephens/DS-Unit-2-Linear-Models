{
  "nbformat": 4,
  "nbformat_minor": 0,
  "metadata": {
    "colab": {
      "name": "Notes.ipynb",
      "provenance": []
    },
    "kernelspec": {
      "name": "python3",
      "display_name": "Python 3"
    }
  },
  "cells": [
    {
      "cell_type": "markdown",
      "metadata": {
        "id": "t-xI600WKHuh",
        "colab_type": "text"
      },
      "source": [
        "## Train/Test split"
      ]
    },
    {
      "cell_type": "code",
      "metadata": {
        "id": "bcUCwlwKm4aM",
        "colab_type": "code",
        "colab": {}
      },
      "source": [
        ""
      ],
      "execution_count": 0,
      "outputs": []
    },
    {
      "cell_type": "markdown",
      "metadata": {
        "id": "kfvsg8i7KTL_",
        "colab_type": "text"
      },
      "source": [
        "## Train/Validate/Test split"
      ]
    },
    {
      "cell_type": "code",
      "metadata": {
        "id": "Y56pV6gzMQhG",
        "colab_type": "code",
        "colab": {}
      },
      "source": [
        ""
      ],
      "execution_count": 0,
      "outputs": []
    },
    {
      "cell_type": "markdown",
      "metadata": {
        "id": "dtv0qP00MRaJ",
        "colab_type": "text"
      },
      "source": [
        "## Baselines"
      ]
    },
    {
      "cell_type": "code",
      "metadata": {
        "id": "OtJU5eypMZQq",
        "colab_type": "code",
        "colab": {}
      },
      "source": [
        ""
      ],
      "execution_count": 0,
      "outputs": []
    },
    {
      "cell_type": "markdown",
      "metadata": {
        "id": "RNjna9YHMeSS",
        "colab_type": "text"
      },
      "source": [
        "## one-hot encoding"
      ]
    },
    {
      "cell_type": "code",
      "metadata": {
        "id": "rK6MFLfZMiDH",
        "colab_type": "code",
        "colab": {}
      },
      "source": [
        ""
      ],
      "execution_count": 0,
      "outputs": []
    },
    {
      "cell_type": "markdown",
      "metadata": {
        "id": "GVYspfHMMmlA",
        "colab_type": "text"
      },
      "source": [
        "## Linear regression"
      ]
    },
    {
      "cell_type": "code",
      "metadata": {
        "id": "hUzBHee1MqZF",
        "colab_type": "code",
        "colab": {}
      },
      "source": [
        ""
      ],
      "execution_count": 0,
      "outputs": []
    },
    {
      "cell_type": "markdown",
      "metadata": {
        "id": "3f9YN-GVMrXR",
        "colab_type": "text"
      },
      "source": [
        "## Ridge regression model"
      ]
    },
    {
      "cell_type": "code",
      "metadata": {
        "id": "ga4ksIuCM3a5",
        "colab_type": "code",
        "colab": {}
      },
      "source": [
        ""
      ],
      "execution_count": 0,
      "outputs": []
    },
    {
      "cell_type": "markdown",
      "metadata": {
        "id": "Y6brkID3OvPx",
        "colab_type": "text"
      },
      "source": [
        "## Logistic regression model"
      ]
    },
    {
      "cell_type": "code",
      "metadata": {
        "id": "VH9IWtmgO57B",
        "colab_type": "code",
        "colab": {}
      },
      "source": [
        ""
      ],
      "execution_count": 0,
      "outputs": []
    },
    {
      "cell_type": "markdown",
      "metadata": {
        "id": "WF2Xg_xKM8PH",
        "colab_type": "text"
      },
      "source": [
        "## MAE"
      ]
    },
    {
      "cell_type": "code",
      "metadata": {
        "id": "TCcYKpGlM-EE",
        "colab_type": "code",
        "colab": {}
      },
      "source": [
        ""
      ],
      "execution_count": 0,
      "outputs": []
    },
    {
      "cell_type": "markdown",
      "metadata": {
        "id": "oL8qcE_2NDY3",
        "colab_type": "text"
      },
      "source": [
        "## R2"
      ]
    },
    {
      "cell_type": "markdown",
      "metadata": {
        "id": "1obfgpALNF1u",
        "colab_type": "text"
      },
      "source": [
        ""
      ]
    }
  ]
}