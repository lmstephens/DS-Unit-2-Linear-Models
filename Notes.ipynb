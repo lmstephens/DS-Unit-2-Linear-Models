{
  "nbformat": 4,
  "nbformat_minor": 0,
  "metadata": {
    "colab": {
      "name": "Notes.ipynb",
      "provenance": []
    },
    "kernelspec": {
      "name": "python3",
      "display_name": "Python 3"
    }
  },
  "cells": [
    {
      "cell_type": "markdown",
      "metadata": {
        "id": "t-xI600WKHuh",
        "colab_type": "text"
      },
      "source": [
        "## Train/Test split"
      ]
    },
    {
      "cell_type": "code",
      "metadata": {
        "id": "bcUCwlwKm4aM",
        "colab_type": "code",
        "colab": {}
      },
      "source": [
        "from sklearn.model_selection import train_test_split\n",
        "X_train, X_test, y_train, y_test = train_test_split(X, y, train_size=0.75, test_size=0.25, random_state=42)\n",
        "X_train.shape, X_test.shape, y_train.shape, y_test.shape"
      ],
      "execution_count": 0,
      "outputs": []
    },
    {
      "cell_type": "markdown",
      "metadata": {
        "id": "kfvsg8i7KTL_",
        "colab_type": "text"
      },
      "source": [
        "## Train/Validate/Test split"
      ]
    },
    {
      "cell_type": "code",
      "metadata": {
        "id": "Y56pV6gzMQhG",
        "colab_type": "code",
        "colab": {}
      },
      "source": [
        "train = homes[homes['Yr_Sold'] < 2009]\n",
        "val = homes[homes['Yr_Sold']== 2009]\n",
        "test = homes[homes['Yr_Sold']== 2010]"
      ],
      "execution_count": 0,
      "outputs": []
    },
    {
      "cell_type": "code",
      "metadata": {
        "id": "iHLlGUj6agJo",
        "colab_type": "code",
        "colab": {}
      },
      "source": [
        "X_train= train[['Exter_Cond','Sale_Condition']]\n",
        "X_test= test[['Exter_Cond','Sale_Condition']]\n",
        "X_val= val[['Exter_Cond','Sale_Condition']]\n",
        "\n",
        "y_train= train['SalePrice']\n",
        "y_test= test['SalePrice']\n",
        "y_val= val['SalePrice']"
      ],
      "execution_count": 0,
      "outputs": []
    },
    {
      "cell_type": "markdown",
      "metadata": {
        "id": "dtv0qP00MRaJ",
        "colab_type": "text"
      },
      "source": [
        "## Baselines"
      ]
    },
    {
      "cell_type": "code",
      "metadata": {
        "id": "OtJU5eypMZQq",
        "colab_type": "code",
        "colab": {}
      },
      "source": [
        "guess = y_train.mean()"
      ],
      "execution_count": 0,
      "outputs": []
    },
    {
      "cell_type": "markdown",
      "metadata": {
        "id": "RNjna9YHMeSS",
        "colab_type": "text"
      },
      "source": [
        "## one-hot encoding\n",
        "One-hot encoding allows us to turn nominal categorical data into features with numerical values, while not mathematically imply any ordinal relationship between the classes."
      ]
    },
    {
      "cell_type": "code",
      "metadata": {
        "id": "rK6MFLfZMiDH",
        "colab_type": "code",
        "colab": {}
      },
      "source": [
        "import category_encoders as ce\n",
        "encoder = ce.OneHotEncoder(use_cat_names=True)\n",
        "X_train = encoder.fit_transform(X_train)\n",
        "X_test = encoder.transform(X_test)"
      ],
      "execution_count": 0,
      "outputs": []
    },
    {
      "cell_type": "markdown",
      "metadata": {
        "id": "GVYspfHMMmlA",
        "colab_type": "text"
      },
      "source": [
        "## Linear regression\n",
        "In statistics, linear regression is a linear approach to modeling the relationship between a scalar response (or dependent variable) and one or more explanatory variables (or independent variables). The case of one explanatory variable is called simple linear regression"
      ]
    },
    {
      "cell_type": "code",
      "metadata": {
        "id": "hUzBHee1MqZF",
        "colab_type": "code",
        "colab": {}
      },
      "source": [
        "### Re-arrange X features matrices\n",
        "features = ['Average Recent Growth in Personal Incomes', \n",
        "            'US Military Fatalities per Million']\n",
        "X_train = train[features]\n",
        "X_test = test[features]\n",
        "print(f'Linear Regression, dependent on: {features}')\n",
        "\n",
        "### Fit the model\n",
        "model.fit(X_train, y_train)\n",
        "y_pred = model.predict(X_train)\n",
        "mae = mean_absolute_error(y_train, y_pred)\n",
        "print(f'Train Error: {mae:.2f} percentage points')\n",
        "\n",
        "### Apply the model to new data\n",
        "y_pred = model.predict(X_test)\n",
        "mae = mean_absolute_error(y_test, y_pred)\n",
        "print(f'Test Error: {mae:.2f} percentage points')"
      ],
      "execution_count": 0,
      "outputs": []
    },
    {
      "cell_type": "markdown",
      "metadata": {
        "id": "3f9YN-GVMrXR",
        "colab_type": "text"
      },
      "source": [
        "## Ridge regression model\n",
        "Ridge Regression is a technique for analyzing multiple regression data that suffer from multicollinearity.\n",
        "By adding a degree of bias to the regression estimates, ridge regression reduces the standard errors. It is hoped that the net effect will be to give estimates that are more reliable."
      ]
    },
    {
      "cell_type": "code",
      "metadata": {
        "id": "ga4ksIuCM3a5",
        "colab_type": "code",
        "colab": {}
      },
      "source": [
        "from sklearn.linear_model import RidgeCV\n",
        "ridge = RidgeCV(alphas=alphas, normalize=True)\n",
        "ridge.fit(anscombe[['x']], anscombe['y'])\n",
        "ridge.alpha_"
      ],
      "execution_count": 0,
      "outputs": []
    },
    {
      "cell_type": "markdown",
      "metadata": {
        "id": "Y6brkID3OvPx",
        "colab_type": "text"
      },
      "source": [
        "## Logistic regression model\n",
        "In statistics, the logistic model is used to model the probability of a certain class or event existing such as pass/fail, win/lose, alive/dead or healthy/sick. This can be extended to model several classes of events such as determining whether an image contains a cat, dog, lion, etc."
      ]
    },
    {
      "cell_type": "code",
      "metadata": {
        "id": "VH9IWtmgO57B",
        "colab_type": "code",
        "colab": {}
      },
      "source": [
        "from sklearn.linear_model import LogisticRegression\n",
        "\n",
        "log_reg = LogisticRegression(solver='lbfgs')\n",
        "log_reg.fit(X_train_imputed, y_train)\n",
        "print('Validation Accuracy', log_reg.score(X_val_imputed, y_val))\n",
        "\n",
        "# The predictions look like this\n",
        "log_reg.predict(X_val_imputed)\n",
        "\n",
        "# What's the math?\n",
        "#log_reg.coef_\n",
        "print(features, log_reg.coef_)\n",
        "#pd.Series(linear_reg.coef_, features)"
      ],
      "execution_count": 0,
      "outputs": []
    },
    {
      "cell_type": "markdown",
      "metadata": {
        "id": "WF2Xg_xKM8PH",
        "colab_type": "text"
      },
      "source": [
        "## MAE (Mean Absolute Error)\n",
        "Statistically, Mean Absolute Error (MAE) refers to a the results of measuring the difference between two continuous variables. Remember it can be positve or negative and the example of traveling in the car to two diffrent places -5miles and 5 miles. You want to get the total distance."
      ]
    },
    {
      "cell_type": "code",
      "metadata": {
        "id": "TCcYKpGlM-EE",
        "colab_type": "code",
        "colab": {}
      },
      "source": [
        "from sklearn.metrics import mean_absolute_error\n",
        "mean_absolute_error = errors.abs().mean() #MAE\n",
        "mean_absolute_error"
      ],
      "execution_count": 0,
      "outputs": []
    },
    {
      "cell_type": "code",
      "metadata": {
        "id": "7D0gTTxVaFah",
        "colab_type": "code",
        "colab": {}
      },
      "source": [
        "print(f'This is where you guess goes ${guess:,.2f},')\n",
        "print(f'we would be off by ${mean_absolute_error:,.2f} on average.')"
      ],
      "execution_count": 0,
      "outputs": []
    },
    {
      "cell_type": "markdown",
      "metadata": {
        "id": "oL8qcE_2NDY3",
        "colab_type": "text"
      },
      "source": [
        "## R2\n",
        "R-squared (R2) is a statistical measure that represents the proportion of the variance for a dependent variable that's explained by an independent variable or variables in a regression model."
      ]
    },
    {
      "cell_type": "code",
      "metadata": {
        "id": "BZlyJxLsEA68",
        "colab_type": "code",
        "colab": {}
      },
      "source": [
        "train_r2s.append(train_r2)\n",
        "test_r2s.append(test_r2)"
      ],
      "execution_count": 0,
      "outputs": []
    },
    {
      "cell_type": "markdown",
      "metadata": {
        "id": "4ZloT7kHHfZP",
        "colab_type": "text"
      },
      "source": [
        "## Simple Imputer"
      ]
    },
    {
      "cell_type": "code",
      "metadata": {
        "id": "4ltwimOGHlaC",
        "colab_type": "code",
        "colab": {}
      },
      "source": [
        "imputer = SimpleImputer(strategy='mean')\n",
        "X_train_imputed = imputer.fit_transform(X_train_encoded)\n",
        "X_val_imputed = imputer.transform(X_val_encoded)"
      ],
      "execution_count": 0,
      "outputs": []
    }
  ]
}