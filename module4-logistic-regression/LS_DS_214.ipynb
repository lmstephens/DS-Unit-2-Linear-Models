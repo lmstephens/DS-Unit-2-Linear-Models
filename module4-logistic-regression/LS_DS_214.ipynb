{
  "nbformat": 4,
  "nbformat_minor": 0,
  "metadata": {
    "jupytext": {
      "main_language": "python"
    },
    "kernelspec": {
      "display_name": "Python 3",
      "language": "python",
      "name": "python3"
    },
    "language_info": {
      "codemirror_mode": {
        "name": "ipython",
        "version": 3
      },
      "file_extension": ".py",
      "mimetype": "text/x-python",
      "name": "python",
      "nbconvert_exporter": "python",
      "pygments_lexer": "ipython3",
      "version": "3.7.3"
    },
    "colab": {
      "name": "LS_DS_214.ipynb",
      "provenance": []
    }
  },
  "cells": [
    {
      "cell_type": "markdown",
      "metadata": {
        "id": "IjRQ385584h3",
        "colab_type": "text"
      },
      "source": [
        "Lambda School Data Science\n",
        "\n",
        "*Unit 2, Sprint 1, Module 4*\n",
        "\n",
        "---\n",
        "\n",
        "# Logistic Regression\n",
        "- do train/validate/test split\n",
        "- begin with baselines for classification\n",
        "- express and explain the intuition and interpretation of Logistic Regression\n",
        "- use sklearn.linear_model.LogisticRegression to fit and interpret Logistic Regression models\n",
        "\n",
        "Logistic regression is the baseline for classification models, as well as a handy way to predict probabilities (since those too live in the unit interval). While relatively simple, it is also the foundation for more sophisticated classification techniques such as neural networks (many of which can effectively be thought of as networks of logistic models)."
      ]
    },
    {
      "cell_type": "markdown",
      "metadata": {
        "id": "FfZ7Bcny84h4",
        "colab_type": "text"
      },
      "source": [
        "### Setup\n",
        "\n",
        "Run the code cell below. You can work locally (follow the [local setup instructions](https://lambdaschool.github.io/ds/unit2/local/)) or on Colab.\n",
        "\n",
        "Libraries:\n",
        "- category_encoders\n",
        "- numpy\n",
        "- pandas\n",
        "- scikit-learn"
      ]
    },
    {
      "cell_type": "code",
      "metadata": {
        "id": "YVNLRHhJ84h5",
        "colab_type": "code",
        "colab": {}
      },
      "source": [
        "%%capture\n",
        "import sys\n",
        "\n",
        "# If you're on Colab:\n",
        "if 'google.colab' in sys.modules:\n",
        "    DATA_PATH = 'https://raw.githubusercontent.com/LambdaSchool/DS-Unit-2-Linear-Models/master/data/'\n",
        "    !pip install category_encoders==2.*\n",
        "\n",
        "# If you're working locally:\n",
        "else:\n",
        "    DATA_PATH = '../data/'"
      ],
      "execution_count": 0,
      "outputs": []
    },
    {
      "cell_type": "markdown",
      "metadata": {
        "id": "qbdLFO1L84h_",
        "colab_type": "text"
      },
      "source": [
        "# Do train/validate/test split"
      ]
    },
    {
      "cell_type": "markdown",
      "metadata": {
        "id": "z92OjduC84iA",
        "colab_type": "text"
      },
      "source": [
        "## Overview"
      ]
    },
    {
      "cell_type": "markdown",
      "metadata": {
        "id": "i5cUyKeF84iB",
        "colab_type": "text"
      },
      "source": [
        "### Predict Titanic survival 🚢\n",
        "\n",
        "Kaggle is a platform for machine learning competitions. [Kaggle has used the Titanic dataset](https://www.kaggle.com/c/titanic/data) for their most popular \"getting started\" competition. \n",
        "\n",
        "Kaggle splits the data into train and test sets for participants. Let's load both:"
      ]
    },
    {
      "cell_type": "code",
      "metadata": {
        "id": "791ROqRC84iB",
        "colab_type": "code",
        "colab": {}
      },
      "source": [
        "import pandas as pd\n",
        "train = pd.read_csv(DATA_PATH+'titanic/train.csv')\n",
        "test = pd.read_csv(DATA_PATH+'titanic/test.csv')"
      ],
      "execution_count": 0,
      "outputs": []
    },
    {
      "cell_type": "markdown",
      "metadata": {
        "id": "MwtVvMXI84iF",
        "colab_type": "text"
      },
      "source": [
        "Notice that the train set has one more column than the test set:"
      ]
    },
    {
      "cell_type": "code",
      "metadata": {
        "id": "d7X7rykE84iG",
        "colab_type": "code",
        "colab": {
          "base_uri": "https://localhost:8080/",
          "height": 34
        },
        "outputId": "7c6b2a9f-cc28-415d-ec36-15b620f0b0f6"
      },
      "source": [
        "train.shape, test.shape"
      ],
      "execution_count": 7,
      "outputs": [
        {
          "output_type": "execute_result",
          "data": {
            "text/plain": [
              "((891, 12), (418, 11))"
            ]
          },
          "metadata": {
            "tags": []
          },
          "execution_count": 7
        }
      ]
    },
    {
      "cell_type": "markdown",
      "metadata": {
        "id": "5m1SxXch84iJ",
        "colab_type": "text"
      },
      "source": [
        "Which column is in train but not test? The target!"
      ]
    },
    {
      "cell_type": "code",
      "metadata": {
        "id": "m2XLh_qi84iK",
        "colab_type": "code",
        "colab": {
          "base_uri": "https://localhost:8080/",
          "height": 34
        },
        "outputId": "03500c84-07d8-4820-8407-bced13121869"
      },
      "source": [
        "set(train.columns) - set(test.columns)"
      ],
      "execution_count": 8,
      "outputs": [
        {
          "output_type": "execute_result",
          "data": {
            "text/plain": [
              "{'Survived'}"
            ]
          },
          "metadata": {
            "tags": []
          },
          "execution_count": 8
        }
      ]
    },
    {
      "cell_type": "markdown",
      "metadata": {
        "id": "6iwm7_k_84iO",
        "colab_type": "text"
      },
      "source": [
        "### Why doesn't Kaggle give you the target for the test set?\n",
        "\n",
        "#### Rachel Thomas, [How (and why) to create a good validation set](https://www.fast.ai/2017/11/13/validation-sets/)\n",
        "\n",
        "> One great thing about Kaggle competitions is that they force you to think about validation sets more rigorously (in order to do well). For those who are new to Kaggle, it is a platform that hosts machine learning competitions. Kaggle typically breaks the data into two sets you can download:\n",
        ">\n",
        "> 1. a **training set**, which includes the _independent variables,_ as well as the _dependent variable_ (what you are trying to predict).\n",
        ">\n",
        "> 2. a **test set**, which just has the _independent variables._ You will make predictions for the test set, which you can submit to Kaggle and get back a score of how well you did.\n",
        ">\n",
        "> This is the basic idea needed to get started with machine learning, but to do well, there is a bit more complexity to understand. **You will want to create your own training and validation sets (by splitting the Kaggle “training” data). You will just use your smaller training set (a subset of Kaggle’s training data) for building your model, and you can evaluate it on your validation set (also a subset of Kaggle’s training data) before you submit to Kaggle.**\n",
        ">\n",
        "> The most important reason for this is that Kaggle has split the test data into two sets: for the public and private leaderboards. The score you see on the public leaderboard is just for a subset of your predictions (and you don’t know which subset!). How your predictions fare on the private leaderboard won’t be revealed until the end of the competition. The reason this is important is that you could end up overfitting to the public leaderboard and you wouldn’t realize it until the very end when you did poorly on the private leaderboard. Using a good validation set can prevent this. You can check if your validation set is any good by seeing if your model has similar scores on it to compared with on the Kaggle test set. ...\n",
        ">\n",
        "> Understanding these distinctions is not just useful for Kaggle. In any predictive machine learning project, you want your model to be able to perform well on new data."
      ]
    },
    {
      "cell_type": "markdown",
      "metadata": {
        "id": "titkxkN084iP",
        "colab_type": "text"
      },
      "source": [
        "### 2-way train/test split is not enough\n",
        "\n",
        "#### Hastie, Tibshirani, and Friedman, [The Elements of Statistical Learning](http://statweb.stanford.edu/~tibs/ElemStatLearn/), Chapter 7: Model Assessment and Selection\n",
        "\n",
        "> If we are in a data-rich situation, the best approach is to randomly divide the dataset into three parts: a training set, a validation set, and a test set. The training set is used to fit the models; the validation set is used to estimate prediction error for model selection; the test set is used for assessment of the generalization error of the final chosen model. Ideally, the test set should be kept in a \"vault,\" and be brought out only at the end of the data analysis. Suppose instead that we use the test-set repeatedly, choosing the model with the smallest test-set error. Then the test set error of the final chosen model will underestimate the true test error, sometimes substantially.\n",
        "\n",
        "#### Andreas Mueller and Sarah Guido, [Introduction to Machine Learning with Python](https://books.google.com/books?id=1-4lDQAAQBAJ&pg=PA270)\n",
        "\n",
        "> The distinction between the training set, validation set, and test set is fundamentally important to applying machine learning methods in practice. Any choices made based on the test set accuracy \"leak\" information from the test set into the model. Therefore, it is important to keep a separate test set, which is only used for the final evaluation. It is good practice to do all exploratory analysis and model selection using the combination of a training and a validation set, and reserve the test set for a final evaluation - this is even true for exploratory visualization. Strictly speaking, evaluating more than one model on the test set and choosing the better of the two will result in an overly optimistic estimate of how accurate the model is.\n",
        "\n",
        "#### Hadley Wickham, [R for Data Science](https://r4ds.had.co.nz/model-intro.html#hypothesis-generation-vs.hypothesis-confirmation)\n",
        "\n",
        "> There is a pair of ideas that you must understand in order to do inference correctly:\n",
        ">\n",
        "> 1. Each observation can either be used for exploration or confirmation, not both.\n",
        ">\n",
        "> 2. You can use an observation as many times as you like for exploration, but you can only use it once for confirmation. As soon as you use an observation twice, you’ve switched from confirmation to exploration.\n",
        ">\n",
        "> This is necessary because to confirm a hypothesis you must use data independent of the data that you used to generate the hypothesis. Otherwise you will be over optimistic. There is absolutely nothing wrong with exploration, but you should never sell an exploratory analysis as a confirmatory analysis because it is fundamentally misleading.\n",
        ">\n",
        "> If you are serious about doing an confirmatory analysis, one approach is to split your data into three pieces before you begin the analysis.\n",
        "\n",
        "\n",
        "#### Sebastian Raschka, [Model Evaluation](https://sebastianraschka.com/blog/2018/model-evaluation-selection-part4.html)\n",
        "\n",
        "> Since “a picture is worth a thousand words,” I want to conclude with a figure (shown below) that summarizes my personal recommendations ...\n",
        "\n",
        "<img src=\"https://sebastianraschka.com/images/blog/2018/model-evaluation-selection-part4/model-eval-conclusions.jpg\" width=\"600\">\n",
        "\n",
        "Usually, we want to do **\"Model selection (hyperparameter optimization) _and_ performance estimation.\"** (The green box in the diagram.)\n",
        "\n",
        "Therefore, we usually do **\"3-way holdout method (train/validation/test split)\"** or **\"cross-validation with independent test set.\"**"
      ]
    },
    {
      "cell_type": "markdown",
      "metadata": {
        "id": "2e9fnUu684iQ",
        "colab_type": "text"
      },
      "source": [
        "### What's the difference between Training, Validation, and Testing sets?\n",
        "\n",
        "#### Brandon Rohrer, [Training, Validation, and Testing Data Sets](https://end-to-end-machine-learning.teachable.com/blog/146320/training-validation-testing-data-sets)\n",
        "\n",
        "> The validation set is for adjusting a model's hyperparameters. The testing data set is the ultimate judge of model performance.\n",
        ">\n",
        "> Testing data is what you hold out until very last. You only run your model on it once. You don’t make any changes or adjustments to your model after that. ..."
      ]
    },
    {
      "cell_type": "markdown",
      "metadata": {
        "id": "Id6Pz6_384iQ",
        "colab_type": "text"
      },
      "source": [
        "## Follow Along\n",
        "\n",
        "> You will want to create your own training and validation sets (by splitting the Kaggle “training” data).\n",
        "\n",
        "Do this, using the [sklearn.model_selection.train_test_split](https://scikit-learn.org/stable/modules/generated/sklearn.model_selection.train_test_split.html) function:"
      ]
    },
    {
      "cell_type": "code",
      "metadata": {
        "id": "aD-7M6Fo84iR",
        "colab_type": "code",
        "colab": {
          "base_uri": "https://localhost:8080/",
          "height": 52
        },
        "outputId": "a7b2d925-0a99-4b7e-8149-ca4da8e9f7c7"
      },
      "source": [
        "from sklearn.model_selection import train_test_split\n",
        "\n",
        "print ('Shape of training data before split:', train.shape)\n",
        "train, val = train_test_split(train, random_state=42)\n",
        "print ('Shape of training and validate data after split:', train.shape, val.shape)"
      ],
      "execution_count": 9,
      "outputs": [
        {
          "output_type": "stream",
          "text": [
            "Shape of training data before split: (891, 12)\n",
            "Shape of training and validate data after split: (668, 12) (223, 12)\n"
          ],
          "name": "stdout"
        }
      ]
    },
    {
      "cell_type": "markdown",
      "metadata": {
        "id": "edpSbK1p84iV",
        "colab_type": "text"
      },
      "source": [
        "## Challenge"
      ]
    },
    {
      "cell_type": "markdown",
      "metadata": {
        "id": "Sr_B9wOe84iW",
        "colab_type": "text"
      },
      "source": [
        "For your assignment, you'll do a 3-way train/validate/test split.\n",
        "\n",
        "Then next sprint, you'll begin to participate in a private Kaggle challenge, just for your cohort! \n",
        "\n",
        "You will be provided with data split into 2 sets: training and test. You will create your own training and validation sets, by splitting the Kaggle \"training\" data, so you'll end up with 3 sets total."
      ]
    },
    {
      "cell_type": "markdown",
      "metadata": {
        "id": "KMAPMCQY84iW",
        "colab_type": "text"
      },
      "source": [
        "# Begin with baselines for classification"
      ]
    },
    {
      "cell_type": "markdown",
      "metadata": {
        "id": "pbc_JsAl84iX",
        "colab_type": "text"
      },
      "source": [
        "## Overview"
      ]
    },
    {
      "cell_type": "markdown",
      "metadata": {
        "id": "ULt-Kkro84iY",
        "colab_type": "text"
      },
      "source": [
        "We'll begin with the **majority class baseline.**\n",
        "\n",
        "[Will Koehrsen](https://twitter.com/koehrsen_will/status/1088863527778111488)\n",
        "\n",
        "> A baseline for classification can be the most common class in the training dataset.\n",
        "\n",
        "[*Data Science for Business*](https://books.google.com/books?id=4ZctAAAAQBAJ&pg=PT276), Chapter 7.3: Evaluation, Baseline Performance, and Implications for Investments in Data\n",
        "\n",
        "> For classification tasks, one good baseline is the _majority classifier,_ a naive classifier that always chooses the majority class of the training dataset (see Note: Base rate in Holdout Data and Fitting Graphs). This may seem like advice so obvious it can be passed over quickly, but it is worth spending an extra moment here. There are many cases where smart, analytical people have been tripped up in skipping over this basic comparison. For example, an analyst may see a classification accuracy of 94% from her classifier and conclude that it is doing fairly well—when in fact only 6% of the instances are positive. So, the simple majority prediction classifier also would have an accuracy of 94%. "
      ]
    },
    {
      "cell_type": "markdown",
      "metadata": {
        "id": "fMlOtcj984iY",
        "colab_type": "text"
      },
      "source": [
        "## Follow Along"
      ]
    },
    {
      "cell_type": "markdown",
      "metadata": {
        "id": "4PwH29yd84iZ",
        "colab_type": "text"
      },
      "source": [
        "Determine majority class"
      ]
    },
    {
      "cell_type": "code",
      "metadata": {
        "id": "JO5sGmC584iZ",
        "colab_type": "code",
        "colab": {
          "base_uri": "https://localhost:8080/",
          "height": 70
        },
        "outputId": "e7332d46-38a3-429c-b67d-52e18d988747"
      },
      "source": [
        "target = 'Survived'\n",
        "y_train = train[target]\n",
        "y_train.value_counts(normalize=True)"
      ],
      "execution_count": 10,
      "outputs": [
        {
          "output_type": "execute_result",
          "data": {
            "text/plain": [
              "0    0.621257\n",
              "1    0.378743\n",
              "Name: Survived, dtype: float64"
            ]
          },
          "metadata": {
            "tags": []
          },
          "execution_count": 10
        }
      ]
    },
    {
      "cell_type": "code",
      "metadata": {
        "id": "BxfEZbZT84id",
        "colab_type": "code",
        "colab": {
          "base_uri": "https://localhost:8080/",
          "height": 332
        },
        "outputId": "fd66c26d-6f4d-4915-ac44-d6a08bbfafa1"
      },
      "source": [
        "import seaborn as sns\n",
        "import matplotlib.pyplot as plt\n",
        "%matplotlib inline\n",
        "\n",
        "sns.countplot(y_train)"
      ],
      "execution_count": 11,
      "outputs": [
        {
          "output_type": "stream",
          "text": [
            "/usr/local/lib/python3.6/dist-packages/statsmodels/tools/_testing.py:19: FutureWarning: pandas.util.testing is deprecated. Use the functions in the public API at pandas.testing instead.\n",
            "  import pandas.util.testing as tm\n"
          ],
          "name": "stderr"
        },
        {
          "output_type": "execute_result",
          "data": {
            "text/plain": [
              "<matplotlib.axes._subplots.AxesSubplot at 0x7f6f782dc518>"
            ]
          },
          "metadata": {
            "tags": []
          },
          "execution_count": 11
        },
        {
          "output_type": "display_data",
          "data": {
            "image/png": "[encoded data removed]",
            "text/plain": [
              "<Figure size 432x288 with 1 Axes>"
            ]
          },
          "metadata": {
            "tags": [],
            "needs_background": "light"
          }
        }
      ]
    },
    {
      "cell_type": "markdown",
      "metadata": {
        "id": "HTsi5WIq84ic",
        "colab_type": "text"
      },
      "source": [
        "What if we guessed the majority class for every prediction?"
      ]
    },
    {
      "cell_type": "code",
      "metadata": {
        "id": "9RWaButdi6mJ",
        "colab_type": "code",
        "colab": {
          "base_uri": "https://localhost:8080/",
          "height": 1000
        },
        "outputId": "63396d75-d228-4b34-8542-51a71b61c1e2"
      },
      "source": [
        "majority_class = y_train.mode()[0]\n",
        "y_pred = [majority_class] * len(y_train)\n",
        "y_pred "
      ],
      "execution_count": 13,
      "outputs": [
        {
          "output_type": "execute_result",
          "data": {
            "text/plain": [
              "[0,\n",
              " 0,\n",
              " 0,\n",
              " 0,\n",
              " 0,\n",
              " 0,\n",
              " 0,\n",
              " 0,\n",
              " 0,\n",
              " 0,\n",
              " 0,\n",
              " 0,\n",
              " 0,\n",
              " 0,\n",
              " 0,\n",
              " 0,\n",
              " 0,\n",
              " 0,\n",
              " 0,\n",
              " 0,\n",
              " 0,\n",
              " 0,\n",
              " 0,\n",
              " 0,\n",
              " 0,\n",
              " 0,\n",
              " 0,\n",
              " 0,\n",
              " 0,\n",
              " 0,\n",
              " 0,\n",
              " 0,\n",
              " 0,\n",
              " 0,\n",
              " 0,\n",
              " 0,\n",
              " 0,\n",
              " 0,\n",
              " 0,\n",
              " 0,\n",
              " 0,\n",
              " 0,\n",
              " 0,\n",
              " 0,\n",
              " 0,\n",
              " 0,\n",
              " 0,\n",
              " 0,\n",
              " 0,\n",
              " 0,\n",
              " 0,\n",
              " 0,\n",
              " 0,\n",
              " 0,\n",
              " 0,\n",
              " 0,\n",
              " 0,\n",
              " 0,\n",
              " 0,\n",
              " 0,\n",
              " 0,\n",
              " 0,\n",
              " 0,\n",
              " 0,\n",
              " 0,\n",
              " 0,\n",
              " 0,\n",
              " 0,\n",
              " 0,\n",
              " 0,\n",
              " 0,\n",
              " 0,\n",
              " 0,\n",
              " 0,\n",
              " 0,\n",
              " 0,\n",
              " 0,\n",
              " 0,\n",
              " 0,\n",
              " 0,\n",
              " 0,\n",
              " 0,\n",
              " 0,\n",
              " 0,\n",
              " 0,\n",
              " 0,\n",
              " 0,\n",
              " 0,\n",
              " 0,\n",
              " 0,\n",
              " 0,\n",
              " 0,\n",
              " 0,\n",
              " 0,\n",
              " 0,\n",
              " 0,\n",
              " 0,\n",
              " 0,\n",
              " 0,\n",
              " 0,\n",
              " 0,\n",
              " 0,\n",
              " 0,\n",
              " 0,\n",
              " 0,\n",
              " 0,\n",
              " 0,\n",
              " 0,\n",
              " 0,\n",
              " 0,\n",
              " 0,\n",
              " 0,\n",
              " 0,\n",
              " 0,\n",
              " 0,\n",
              " 0,\n",
              " 0,\n",
              " 0,\n",
              " 0,\n",
              " 0,\n",
              " 0,\n",
              " 0,\n",
              " 0,\n",
              " 0,\n",
              " 0,\n",
              " 0,\n",
              " 0,\n",
              " 0,\n",
              " 0,\n",
              " 0,\n",
              " 0,\n",
              " 0,\n",
              " 0,\n",
              " 0,\n",
              " 0,\n",
              " 0,\n",
              " 0,\n",
              " 0,\n",
              " 0,\n",
              " 0,\n",
              " 0,\n",
              " 0,\n",
              " 0,\n",
              " 0,\n",
              " 0,\n",
              " 0,\n",
              " 0,\n",
              " 0,\n",
              " 0,\n",
              " 0,\n",
              " 0,\n",
              " 0,\n",
              " 0,\n",
              " 0,\n",
              " 0,\n",
              " 0,\n",
              " 0,\n",
              " 0,\n",
              " 0,\n",
              " 0,\n",
              " 0,\n",
              " 0,\n",
              " 0,\n",
              " 0,\n",
              " 0,\n",
              " 0,\n",
              " 0,\n",
              " 0,\n",
              " 0,\n",
              " 0,\n",
              " 0,\n",
              " 0,\n",
              " 0,\n",
              " 0,\n",
              " 0,\n",
              " 0,\n",
              " 0,\n",
              " 0,\n",
              " 0,\n",
              " 0,\n",
              " 0,\n",
              " 0,\n",
              " 0,\n",
              " 0,\n",
              " 0,\n",
              " 0,\n",
              " 0,\n",
              " 0,\n",
              " 0,\n",
              " 0,\n",
              " 0,\n",
              " 0,\n",
              " 0,\n",
              " 0,\n",
              " 0,\n",
              " 0,\n",
              " 0,\n",
              " 0,\n",
              " 0,\n",
              " 0,\n",
              " 0,\n",
              " 0,\n",
              " 0,\n",
              " 0,\n",
              " 0,\n",
              " 0,\n",
              " 0,\n",
              " 0,\n",
              " 0,\n",
              " 0,\n",
              " 0,\n",
              " 0,\n",
              " 0,\n",
              " 0,\n",
              " 0,\n",
              " 0,\n",
              " 0,\n",
              " 0,\n",
              " 0,\n",
              " 0,\n",
              " 0,\n",
              " 0,\n",
              " 0,\n",
              " 0,\n",
              " 0,\n",
              " 0,\n",
              " 0,\n",
              " 0,\n",
              " 0,\n",
              " 0,\n",
              " 0,\n",
              " 0,\n",
              " 0,\n",
              " 0,\n",
              " 0,\n",
              " 0,\n",
              " 0,\n",
              " 0,\n",
              " 0,\n",
              " 0,\n",
              " 0,\n",
              " 0,\n",
              " 0,\n",
              " 0,\n",
              " 0,\n",
              " 0,\n",
              " 0,\n",
              " 0,\n",
              " 0,\n",
              " 0,\n",
              " 0,\n",
              " 0,\n",
              " 0,\n",
              " 0,\n",
              " 0,\n",
              " 0,\n",
              " 0,\n",
              " 0,\n",
              " 0,\n",
              " 0,\n",
              " 0,\n",
              " 0,\n",
              " 0,\n",
              " 0,\n",
              " 0,\n",
              " 0,\n",
              " 0,\n",
              " 0,\n",
              " 0,\n",
              " 0,\n",
              " 0,\n",
              " 0,\n",
              " 0,\n",
              " 0,\n",
              " 0,\n",
              " 0,\n",
              " 0,\n",
              " 0,\n",
              " 0,\n",
              " 0,\n",
              " 0,\n",
              " 0,\n",
              " 0,\n",
              " 0,\n",
              " 0,\n",
              " 0,\n",
              " 0,\n",
              " 0,\n",
              " 0,\n",
              " 0,\n",
              " 0,\n",
              " 0,\n",
              " 0,\n",
              " 0,\n",
              " 0,\n",
              " 0,\n",
              " 0,\n",
              " 0,\n",
              " 0,\n",
              " 0,\n",
              " 0,\n",
              " 0,\n",
              " 0,\n",
              " 0,\n",
              " 0,\n",
              " 0,\n",
              " 0,\n",
              " 0,\n",
              " 0,\n",
              " 0,\n",
              " 0,\n",
              " 0,\n",
              " 0,\n",
              " 0,\n",
              " 0,\n",
              " 0,\n",
              " 0,\n",
              " 0,\n",
              " 0,\n",
              " 0,\n",
              " 0,\n",
              " 0,\n",
              " 0,\n",
              " 0,\n",
              " 0,\n",
              " 0,\n",
              " 0,\n",
              " 0,\n",
              " 0,\n",
              " 0,\n",
              " 0,\n",
              " 0,\n",
              " 0,\n",
              " 0,\n",
              " 0,\n",
              " 0,\n",
              " 0,\n",
              " 0,\n",
              " 0,\n",
              " 0,\n",
              " 0,\n",
              " 0,\n",
              " 0,\n",
              " 0,\n",
              " 0,\n",
              " 0,\n",
              " 0,\n",
              " 0,\n",
              " 0,\n",
              " 0,\n",
              " 0,\n",
              " 0,\n",
              " 0,\n",
              " 0,\n",
              " 0,\n",
              " 0,\n",
              " 0,\n",
              " 0,\n",
              " 0,\n",
              " 0,\n",
              " 0,\n",
              " 0,\n",
              " 0,\n",
              " 0,\n",
              " 0,\n",
              " 0,\n",
              " 0,\n",
              " 0,\n",
              " 0,\n",
              " 0,\n",
              " 0,\n",
              " 0,\n",
              " 0,\n",
              " 0,\n",
              " 0,\n",
              " 0,\n",
              " 0,\n",
              " 0,\n",
              " 0,\n",
              " 0,\n",
              " 0,\n",
              " 0,\n",
              " 0,\n",
              " 0,\n",
              " 0,\n",
              " 0,\n",
              " 0,\n",
              " 0,\n",
              " 0,\n",
              " 0,\n",
              " 0,\n",
              " 0,\n",
              " 0,\n",
              " 0,\n",
              " 0,\n",
              " 0,\n",
              " 0,\n",
              " 0,\n",
              " 0,\n",
              " 0,\n",
              " 0,\n",
              " 0,\n",
              " 0,\n",
              " 0,\n",
              " 0,\n",
              " 0,\n",
              " 0,\n",
              " 0,\n",
              " 0,\n",
              " 0,\n",
              " 0,\n",
              " 0,\n",
              " 0,\n",
              " 0,\n",
              " 0,\n",
              " 0,\n",
              " 0,\n",
              " 0,\n",
              " 0,\n",
              " 0,\n",
              " 0,\n",
              " 0,\n",
              " 0,\n",
              " 0,\n",
              " 0,\n",
              " 0,\n",
              " 0,\n",
              " 0,\n",
              " 0,\n",
              " 0,\n",
              " 0,\n",
              " 0,\n",
              " 0,\n",
              " 0,\n",
              " 0,\n",
              " 0,\n",
              " 0,\n",
              " 0,\n",
              " 0,\n",
              " 0,\n",
              " 0,\n",
              " 0,\n",
              " 0,\n",
              " 0,\n",
              " 0,\n",
              " 0,\n",
              " 0,\n",
              " 0,\n",
              " 0,\n",
              " 0,\n",
              " 0,\n",
              " 0,\n",
              " 0,\n",
              " 0,\n",
              " 0,\n",
              " 0,\n",
              " 0,\n",
              " 0,\n",
              " 0,\n",
              " 0,\n",
              " 0,\n",
              " 0,\n",
              " 0,\n",
              " 0,\n",
              " 0,\n",
              " 0,\n",
              " 0,\n",
              " 0,\n",
              " 0,\n",
              " 0,\n",
              " 0,\n",
              " 0,\n",
              " 0,\n",
              " 0,\n",
              " 0,\n",
              " 0,\n",
              " 0,\n",
              " 0,\n",
              " 0,\n",
              " 0,\n",
              " 0,\n",
              " 0,\n",
              " 0,\n",
              " 0,\n",
              " 0,\n",
              " 0,\n",
              " 0,\n",
              " 0,\n",
              " 0,\n",
              " 0,\n",
              " 0,\n",
              " 0,\n",
              " 0,\n",
              " 0,\n",
              " 0,\n",
              " 0,\n",
              " 0,\n",
              " 0,\n",
              " 0,\n",
              " 0,\n",
              " 0,\n",
              " 0,\n",
              " 0,\n",
              " 0,\n",
              " 0,\n",
              " 0,\n",
              " 0,\n",
              " 0,\n",
              " 0,\n",
              " 0,\n",
              " 0,\n",
              " 0,\n",
              " 0,\n",
              " 0,\n",
              " 0,\n",
              " 0,\n",
              " 0,\n",
              " 0,\n",
              " 0,\n",
              " 0,\n",
              " 0,\n",
              " 0,\n",
              " 0,\n",
              " 0,\n",
              " 0,\n",
              " 0,\n",
              " 0,\n",
              " 0,\n",
              " 0,\n",
              " 0,\n",
              " 0,\n",
              " 0,\n",
              " 0,\n",
              " 0,\n",
              " 0,\n",
              " 0,\n",
              " 0,\n",
              " 0,\n",
              " 0,\n",
              " 0,\n",
              " 0,\n",
              " 0,\n",
              " 0,\n",
              " 0,\n",
              " 0,\n",
              " 0,\n",
              " 0,\n",
              " 0,\n",
              " 0,\n",
              " 0,\n",
              " 0,\n",
              " 0,\n",
              " 0,\n",
              " 0,\n",
              " 0,\n",
              " 0,\n",
              " 0,\n",
              " 0,\n",
              " 0,\n",
              " 0,\n",
              " 0,\n",
              " 0,\n",
              " 0,\n",
              " 0,\n",
              " 0,\n",
              " 0,\n",
              " 0,\n",
              " 0,\n",
              " 0,\n",
              " 0,\n",
              " 0,\n",
              " 0,\n",
              " 0,\n",
              " 0,\n",
              " 0,\n",
              " 0,\n",
              " 0,\n",
              " 0,\n",
              " 0,\n",
              " 0,\n",
              " 0,\n",
              " 0,\n",
              " 0,\n",
              " 0,\n",
              " 0,\n",
              " 0,\n",
              " 0,\n",
              " 0,\n",
              " 0,\n",
              " 0,\n",
              " 0,\n",
              " 0,\n",
              " 0,\n",
              " 0,\n",
              " 0,\n",
              " 0,\n",
              " 0,\n",
              " 0,\n",
              " 0,\n",
              " 0,\n",
              " 0,\n",
              " 0,\n",
              " 0,\n",
              " 0,\n",
              " 0,\n",
              " 0,\n",
              " 0,\n",
              " 0,\n",
              " 0,\n",
              " 0,\n",
              " 0,\n",
              " 0,\n",
              " 0,\n",
              " 0,\n",
              " 0,\n",
              " 0,\n",
              " 0,\n",
              " 0,\n",
              " 0,\n",
              " 0,\n",
              " 0,\n",
              " 0,\n",
              " 0,\n",
              " 0,\n",
              " 0,\n",
              " 0,\n",
              " 0,\n",
              " 0,\n",
              " 0,\n",
              " 0,\n",
              " 0,\n",
              " 0,\n",
              " 0,\n",
              " 0,\n",
              " 0,\n",
              " 0,\n",
              " 0,\n",
              " 0,\n",
              " 0,\n",
              " 0,\n",
              " 0,\n",
              " 0,\n",
              " 0,\n",
              " 0,\n",
              " 0,\n",
              " 0,\n",
              " 0,\n",
              " 0,\n",
              " 0,\n",
              " 0,\n",
              " 0,\n",
              " 0,\n",
              " 0,\n",
              " 0,\n",
              " 0,\n",
              " 0,\n",
              " 0,\n",
              " 0,\n",
              " 0,\n",
              " 0,\n",
              " 0,\n",
              " 0,\n",
              " 0,\n",
              " 0,\n",
              " 0,\n",
              " 0,\n",
              " 0,\n",
              " 0]"
            ]
          },
          "metadata": {
            "tags": []
          },
          "execution_count": 13
        }
      ]
    },
    {
      "cell_type": "markdown",
      "metadata": {
        "id": "QUgMa-lV84ih",
        "colab_type": "text"
      },
      "source": [
        "#### Use a classification metric: accuracy\n",
        "\n",
        "[Classification metrics are different from regression metrics!](https://scikit-learn.org/stable/modules/model_evaluation.html)\n",
        "- Don't use _regression_ metrics to evaluate _classification_ tasks.\n",
        "- Don't use _classification_ metrics to evaluate _regression_ tasks.\n",
        "\n",
        "[Accuracy](https://scikit-learn.org/stable/modules/model_evaluation.html#accuracy-score) is a common metric for classification. Accuracy is the [\"proportion of correct classifications\"](https://en.wikipedia.org/wiki/Confusion_matrix): the number of correct predictions divided by the total number of predictions."
      ]
    },
    {
      "cell_type": "markdown",
      "metadata": {
        "id": "o6x3B-Nt84ii",
        "colab_type": "text"
      },
      "source": [
        "What is the baseline accuracy if we guessed the majority class for every prediction?"
      ]
    },
    {
      "cell_type": "code",
      "metadata": {
        "id": "w5gV736F84ij",
        "colab_type": "code",
        "colab": {
          "base_uri": "https://localhost:8080/",
          "height": 34
        },
        "outputId": "71e199ec-82e7-4db1-d848-8293a3088dc0"
      },
      "source": [
        "from sklearn.metrics import accuracy_score\n",
        "\n",
        "accuracy_score(y_train, y_pred)"
      ],
      "execution_count": 14,
      "outputs": [
        {
          "output_type": "execute_result",
          "data": {
            "text/plain": [
              "0.6212574850299402"
            ]
          },
          "metadata": {
            "tags": []
          },
          "execution_count": 14
        }
      ]
    },
    {
      "cell_type": "code",
      "metadata": {
        "id": "OzWBsZh184im",
        "colab_type": "code",
        "colab": {
          "base_uri": "https://localhost:8080/",
          "height": 34
        },
        "outputId": "f800a479-908e-4f09-b44c-95a36385dbac"
      },
      "source": [
        "y_val = val[target]\n",
        "y_pred = [majority_class] * len(y_val)\n",
        "accuracy_score(y_val, y_pred)"
      ],
      "execution_count": 15,
      "outputs": [
        {
          "output_type": "execute_result",
          "data": {
            "text/plain": [
              "0.600896860986547"
            ]
          },
          "metadata": {
            "tags": []
          },
          "execution_count": 15
        }
      ]
    },
    {
      "cell_type": "code",
      "metadata": {
        "id": "hqDHnXcpki0m",
        "colab_type": "code",
        "colab": {}
      },
      "source": [
        ""
      ],
      "execution_count": 0,
      "outputs": []
    },
    {
      "cell_type": "markdown",
      "metadata": {
        "id": "IVzWm4Ib84ip",
        "colab_type": "text"
      },
      "source": [
        "## Challenge"
      ]
    },
    {
      "cell_type": "markdown",
      "metadata": {
        "id": "x2Ty84Zp84ip",
        "colab_type": "text"
      },
      "source": [
        "In your assignment, your Sprint Challenge, and your upcoming Kaggle challenge, you'll begin with the majority class baseline. How quickly can you beat this baseline?"
      ]
    },
    {
      "cell_type": "markdown",
      "metadata": {
        "id": "JJhK6unL84iq",
        "colab_type": "text"
      },
      "source": [
        "# Express and explain the intuition and interpretation of Logistic Regression\n"
      ]
    },
    {
      "cell_type": "markdown",
      "metadata": {
        "id": "KxIJRsq184iq",
        "colab_type": "text"
      },
      "source": [
        "## Overview\n",
        "\n",
        "To help us get an intuition for *Logistic* Regression, let's start by trying *Linear* Regression instead, and see what happens..."
      ]
    },
    {
      "cell_type": "markdown",
      "metadata": {
        "id": "O46CuC1s84ir",
        "colab_type": "text"
      },
      "source": [
        "## Follow Along"
      ]
    },
    {
      "cell_type": "markdown",
      "metadata": {
        "id": "dFSBBXj184is",
        "colab_type": "text"
      },
      "source": [
        "### Linear Regression?"
      ]
    },
    {
      "cell_type": "code",
      "metadata": {
        "id": "WUNKtDDy84is",
        "colab_type": "code",
        "colab": {
          "base_uri": "https://localhost:8080/",
          "height": 287
        },
        "outputId": "daf8c03b-b3be-4b56-e1c5-01d09df552f1"
      },
      "source": [
        "train.describe()"
      ],
      "execution_count": 16,
      "outputs": [
        {
          "output_type": "execute_result",
          "data": {
            "text/html": [
              "<div>\n",
              "<style scoped>\n",
              "    .dataframe tbody tr th:only-of-type {\n",
              "        vertical-align: middle;\n",
              "    }\n",
              "\n",
              "    .dataframe tbody tr th {\n",
              "        vertical-align: top;\n",
              "    }\n",
              "\n",
              "    .dataframe thead th {\n",
              "        text-align: right;\n",
              "    }\n",
              "</style>\n",
              "<table border=\"1\" class=\"dataframe\">\n",
              "  <thead>\n",
              "    <tr style=\"text-align: right;\">\n",
              "      <th></th>\n",
              "      <th>PassengerId</th>\n",
              "      <th>Survived</th>\n",
              "      <th>Pclass</th>\n",
              "      <th>Age</th>\n",
              "      <th>SibSp</th>\n",
              "      <th>Parch</th>\n",
              "      <th>Fare</th>\n",
              "    </tr>\n",
              "  </thead>\n",
              "  <tbody>\n",
              "    <tr>\n",
              "      <th>count</th>\n",
              "      <td>668.000000</td>\n",
              "      <td>668.000000</td>\n",
              "      <td>668.000000</td>\n",
              "      <td>536.000000</td>\n",
              "      <td>668.000000</td>\n",
              "      <td>668.000000</td>\n",
              "      <td>668.000000</td>\n",
              "    </tr>\n",
              "    <tr>\n",
              "      <th>mean</th>\n",
              "      <td>447.450599</td>\n",
              "      <td>0.378743</td>\n",
              "      <td>2.333832</td>\n",
              "      <td>29.421343</td>\n",
              "      <td>0.553892</td>\n",
              "      <td>0.372754</td>\n",
              "      <td>32.179397</td>\n",
              "    </tr>\n",
              "    <tr>\n",
              "      <th>std</th>\n",
              "      <td>258.038366</td>\n",
              "      <td>0.485437</td>\n",
              "      <td>0.823707</td>\n",
              "      <td>14.526010</td>\n",
              "      <td>1.185279</td>\n",
              "      <td>0.795588</td>\n",
              "      <td>51.604012</td>\n",
              "    </tr>\n",
              "    <tr>\n",
              "      <th>min</th>\n",
              "      <td>1.000000</td>\n",
              "      <td>0.000000</td>\n",
              "      <td>1.000000</td>\n",
              "      <td>0.420000</td>\n",
              "      <td>0.000000</td>\n",
              "      <td>0.000000</td>\n",
              "      <td>0.000000</td>\n",
              "    </tr>\n",
              "    <tr>\n",
              "      <th>25%</th>\n",
              "      <td>221.750000</td>\n",
              "      <td>0.000000</td>\n",
              "      <td>2.000000</td>\n",
              "      <td>20.750000</td>\n",
              "      <td>0.000000</td>\n",
              "      <td>0.000000</td>\n",
              "      <td>7.925000</td>\n",
              "    </tr>\n",
              "    <tr>\n",
              "      <th>50%</th>\n",
              "      <td>452.500000</td>\n",
              "      <td>0.000000</td>\n",
              "      <td>3.000000</td>\n",
              "      <td>28.000000</td>\n",
              "      <td>0.000000</td>\n",
              "      <td>0.000000</td>\n",
              "      <td>14.400000</td>\n",
              "    </tr>\n",
              "    <tr>\n",
              "      <th>75%</th>\n",
              "      <td>673.500000</td>\n",
              "      <td>1.000000</td>\n",
              "      <td>3.000000</td>\n",
              "      <td>38.000000</td>\n",
              "      <td>1.000000</td>\n",
              "      <td>0.000000</td>\n",
              "      <td>30.500000</td>\n",
              "    </tr>\n",
              "    <tr>\n",
              "      <th>max</th>\n",
              "      <td>891.000000</td>\n",
              "      <td>1.000000</td>\n",
              "      <td>3.000000</td>\n",
              "      <td>80.000000</td>\n",
              "      <td>8.000000</td>\n",
              "      <td>6.000000</td>\n",
              "      <td>512.329200</td>\n",
              "    </tr>\n",
              "  </tbody>\n",
              "</table>\n",
              "</div>"
            ],
            "text/plain": [
              "       PassengerId    Survived      Pclass  ...       SibSp       Parch        Fare\n",
              "count   668.000000  668.000000  668.000000  ...  668.000000  668.000000  668.000000\n",
              "mean    447.450599    0.378743    2.333832  ...    0.553892    0.372754   32.179397\n",
              "std     258.038366    0.485437    0.823707  ...    1.185279    0.795588   51.604012\n",
              "min       1.000000    0.000000    1.000000  ...    0.000000    0.000000    0.000000\n",
              "25%     221.750000    0.000000    2.000000  ...    0.000000    0.000000    7.925000\n",
              "50%     452.500000    0.000000    3.000000  ...    0.000000    0.000000   14.400000\n",
              "75%     673.500000    1.000000    3.000000  ...    1.000000    0.000000   30.500000\n",
              "max     891.000000    1.000000    3.000000  ...    8.000000    6.000000  512.329200\n",
              "\n",
              "[8 rows x 7 columns]"
            ]
          },
          "metadata": {
            "tags": []
          },
          "execution_count": 16
        }
      ]
    },
    {
      "cell_type": "code",
      "metadata": {
        "id": "XXg-tnIFlric",
        "colab_type": "code",
        "colab": {
          "base_uri": "https://localhost:8080/",
          "height": 354
        },
        "outputId": "e5e4eed9-dc85-4025-b6c1-093ede34a76e"
      },
      "source": [
        "train.info()"
      ],
      "execution_count": 19,
      "outputs": [
        {
          "output_type": "stream",
          "text": [
            "<class 'pandas.core.frame.DataFrame'>\n",
            "Int64Index: 668 entries, 298 to 102\n",
            "Data columns (total 12 columns):\n",
            " #   Column       Non-Null Count  Dtype  \n",
            "---  ------       --------------  -----  \n",
            " 0   PassengerId  668 non-null    int64  \n",
            " 1   Survived     668 non-null    int64  \n",
            " 2   Pclass       668 non-null    int64  \n",
            " 3   Name         668 non-null    object \n",
            " 4   Sex          668 non-null    object \n",
            " 5   Age          536 non-null    float64\n",
            " 6   SibSp        668 non-null    int64  \n",
            " 7   Parch        668 non-null    int64  \n",
            " 8   Ticket       668 non-null    object \n",
            " 9   Fare         668 non-null    float64\n",
            " 10  Cabin        149 non-null    object \n",
            " 11  Embarked     666 non-null    object \n",
            "dtypes: float64(2), int64(5), object(5)\n",
            "memory usage: 87.8+ KB\n"
          ],
          "name": "stdout"
        }
      ]
    },
    {
      "cell_type": "code",
      "metadata": {
        "id": "HZ4CPpQJ84iv",
        "colab_type": "code",
        "colab": {
          "base_uri": "https://localhost:8080/",
          "height": 816
        },
        "outputId": "89618fc5-5c2a-4191-8e0c-f7b7d6544e56"
      },
      "source": [
        "# 1. Import estimator class\n",
        "from sklearn.linear_model import LinearRegression\n",
        "\n",
        "# 2. Instantiate this class\n",
        "linear_reg = LinearRegression()\n",
        "\n",
        "# 3. Arrange X feature matrices (already did y target vectors)\n",
        "features = ['Pclass', 'Age', 'Fare']\n",
        "X_train = train[features]\n",
        "X_val = val[features]\n",
        "\n",
        "# Impute missing values\n",
        "from sklearn.impute import SimpleImputer\n",
        "imputer = SimpleImputer()\n",
        "X_train_imputed = imputer.fit_transform(X_train)\n",
        "X_val_imputed = imputer.transform(X_val)\n",
        "\n",
        "# 4. Fit the model\n",
        "linear_reg.fit(X_train_imputed, y_train)\n",
        "\n",
        "# 5. Apply the model to new data.\n",
        "# The predictions look like this ...\n",
        "linear_reg.predict(X_val_imputed)"
      ],
      "execution_count": 20,
      "outputs": [
        {
          "output_type": "execute_result",
          "data": {
            "text/plain": [
              "array([ 0.23418773,  0.414959  ,  0.29142187,  0.60240298,  0.33464094,\n",
              "        0.70204713,  0.22782825,  0.32690633,  0.31821017,  0.70458858,\n",
              "        0.60612454,  0.12990727,  0.2428592 ,  0.22348605,  0.38340904,\n",
              "        0.73591945,  0.57199051,  0.22789544,  0.44401679,  0.53784936,\n",
              "        0.26446032,  0.60380195,  0.298096  ,  0.2925248 ,  0.23355499,\n",
              "        0.37571072,  0.5643901 ,  0.41708001,  0.41611588,  0.21728567,\n",
              "        0.29813129,  0.27780501,  0.63815283,  0.22765856,  0.30499631,\n",
              "        0.24982192,  0.65180034,  0.22782825,  0.63451413,  0.22795194,\n",
              "        0.53575051,  0.23006821,  0.22808277,  0.22782825,  0.12860643,\n",
              "        0.34079898,  0.298354  ,  0.27232222,  0.26374274,  0.5157593 ,\n",
              "        0.40205002,  0.53938723,  0.1736849 ,  0.83797194, -0.01176533,\n",
              "        0.7565994 ,  0.4082248 ,  0.68352778,  0.39693048,  0.29811721,\n",
              "        0.28456041,  0.54381014,  0.44831187,  0.63410525,  0.22782825,\n",
              "        0.23986996,  0.53575051,  0.2307717 ,  0.31103413,  0.52646321,\n",
              "        0.46178026,  0.91162438,  0.6606025 ,  0.61815779,  0.27115922,\n",
              "        0.19014386,  0.22056436,  0.70408319,  0.36994065,  0.16042859,\n",
              "        0.34530614,  0.42842738,  0.6549822 ,  0.22781764,  0.459167  ,\n",
              "        0.37411125,  0.69758253,  0.65651261,  0.55433999,  0.22740404,\n",
              "        0.37618792,  0.38530828,  0.42687469,  0.2278106 ,  0.22795194,\n",
              "        0.23748825,  0.53111516,  0.12317307,  0.38340904,  0.24425774,\n",
              "        0.40130951,  0.18973024,  0.75956181,  0.16946402,  0.22081888,\n",
              "        0.25762364,  0.37853082,  0.52639588,  0.22541617,  0.56717219,\n",
              "        0.65622744,  0.2874821 ,  0.68770686,  0.59011085,  0.80026912,\n",
              "        0.29305149,  0.36151242,  0.38330299,  0.49126225,  0.12530478,\n",
              "        0.46968095,  0.65947149,  0.45212543,  0.63382514,  0.25717823,\n",
              "        0.59706775,  0.50226235,  0.71581246,  0.23351961,  0.28479373,\n",
              "        0.22793786,  0.23418773,  0.41668172,  0.39629502,  0.52856293,\n",
              "        0.33063225,  0.70618438,  0.23068686,  0.14295145,  0.31326827,\n",
              "        0.28511892,  0.34056477,  0.43728259,  0.38770413,  0.18145839,\n",
              "        0.41342135,  0.42381421,  0.17926221,  0.73641945,  0.13664146,\n",
              "        0.22864484,  0.26412096,  0.30478064,  0.2417421 ,  0.22808277,\n",
              "        0.22723436,  0.26918447,  0.22786006,  0.39443832,  0.21703822,\n",
              "        0.26726187,  0.63463551,  0.36320646,  0.68182452,  0.22842917,\n",
              "        0.42510028,  0.46883255,  0.65611078,  0.27792871,  0.18966661,\n",
              "        0.70910646,  0.50462453,  0.59019569,  0.37170901,  0.31094573,\n",
              "        0.22738283,  0.1901121 ,  0.50923771,  0.40661373,  0.52801311,\n",
              "        0.47095356,  0.21061154,  0.25095664,  0.40551086,  0.85861682,\n",
              "        0.52972581,  0.44303761,  0.22795194,  0.64222874,  0.34300388,\n",
              "        0.19744015,  0.40299653,  0.31088566,  0.23215036,  0.30015961,\n",
              "        0.65089911,  0.74737355,  0.39687743,  0.7441172 ,  0.37183989,\n",
              "        0.01388824,  0.22470563,  0.58994204,  0.00326201,  0.29083155,\n",
              "        0.24022201,  0.2321362 ,  0.66961709,  0.23351961,  0.0895021 ,\n",
              "        0.80785398,  0.22350726,  0.6643675 ,  0.22780704,  0.2428592 ,\n",
              "        0.4237939 ,  0.47190808,  0.51886995,  0.46851445,  0.22740404,\n",
              "        0.22795194,  0.46421937,  0.31531504])"
            ]
          },
          "metadata": {
            "tags": []
          },
          "execution_count": 20
        }
      ]
    },
    {
      "cell_type": "code",
      "metadata": {
        "id": "HFmCmRu684iy",
        "colab_type": "code",
        "colab": {
          "base_uri": "https://localhost:8080/",
          "height": 87
        },
        "outputId": "a1169f07-cde3-4ca1-b5ca-c19369a28915"
      },
      "source": [
        "# Get coefficients\n",
        "pd.Series(linear_reg.coef_, features)"
      ],
      "execution_count": 21,
      "outputs": [
        {
          "output_type": "execute_result",
          "data": {
            "text/plain": [
              "Pclass   -0.195429\n",
              "Age      -0.006734\n",
              "Fare      0.000848\n",
              "dtype: float64"
            ]
          },
          "metadata": {
            "tags": []
          },
          "execution_count": 21
        }
      ]
    },
    {
      "cell_type": "code",
      "metadata": {
        "id": "9z60c0bo84i2",
        "colab_type": "code",
        "colab": {
          "base_uri": "https://localhost:8080/",
          "height": 34
        },
        "outputId": "39e7be53-c5f6-45ff-ef3f-6aaa0dea620b"
      },
      "source": [
        "test_case = [[1, 5, 500]]  # 1st class, 5-year old, Rich\n",
        "linear_reg.predict(test_case)"
      ],
      "execution_count": 22,
      "outputs": [
        {
          "output_type": "execute_result",
          "data": {
            "text/plain": [
              "array([1.20077135])"
            ]
          },
          "metadata": {
            "tags": []
          },
          "execution_count": 22
        }
      ]
    },
    {
      "cell_type": "markdown",
      "metadata": {
        "id": "4UNO4Fb084i5",
        "colab_type": "text"
      },
      "source": [
        "### Logistic Regression!"
      ]
    },
    {
      "cell_type": "code",
      "metadata": {
        "id": "t7COhEtR84i6",
        "colab_type": "code",
        "colab": {
          "base_uri": "https://localhost:8080/",
          "height": 34
        },
        "outputId": "103e4df5-813d-4f6d-86d8-5edce4940af7"
      },
      "source": [
        "from sklearn.linear_model import LogisticRegression\n",
        "\n",
        "log_reg = LogisticRegression(solver='lbfgs')\n",
        "log_reg.fit(X_train_imputed, y_train)\n",
        "print('Validation Accuracy', log_reg.score(X_val_imputed, y_val))"
      ],
      "execution_count": 23,
      "outputs": [
        {
          "output_type": "stream",
          "text": [
            "Validation Accuracy 0.7354260089686099\n"
          ],
          "name": "stdout"
        }
      ]
    },
    {
      "cell_type": "code",
      "metadata": {
        "id": "2Fu2awRd84i8",
        "colab_type": "code",
        "colab": {
          "base_uri": "https://localhost:8080/",
          "height": 212
        },
        "outputId": "7ff15f1f-fdc8-483a-d27f-b4fc483c9f3d"
      },
      "source": [
        "# The predictions look like this\n",
        "log_reg.predict(X_val_imputed)"
      ],
      "execution_count": 24,
      "outputs": [
        {
          "output_type": "execute_result",
          "data": {
            "text/plain": [
              "array([0, 0, 0, 1, 0, 1, 0, 0, 0, 1, 1, 0, 0, 0, 0, 1, 1, 0, 0, 1, 0, 1,\n",
              "       0, 0, 0, 0, 1, 0, 0, 0, 0, 0, 1, 0, 0, 0, 1, 0, 1, 0, 1, 0, 0, 0,\n",
              "       0, 0, 0, 0, 0, 1, 0, 1, 0, 1, 0, 1, 0, 1, 0, 0, 0, 1, 0, 1, 0, 0,\n",
              "       1, 0, 0, 1, 0, 1, 1, 1, 0, 0, 0, 1, 0, 0, 0, 0, 1, 0, 0, 0, 1, 1,\n",
              "       1, 0, 0, 0, 0, 0, 0, 0, 1, 0, 0, 0, 0, 0, 1, 0, 0, 0, 0, 1, 0, 1,\n",
              "       1, 0, 1, 1, 1, 0, 0, 0, 0, 0, 0, 1, 0, 1, 0, 1, 0, 1, 0, 0, 0, 0,\n",
              "       0, 0, 1, 0, 1, 0, 0, 0, 0, 0, 0, 0, 0, 0, 0, 0, 1, 0, 0, 0, 0, 0,\n",
              "       0, 0, 0, 0, 0, 0, 0, 1, 0, 1, 0, 0, 0, 1, 0, 0, 1, 1, 1, 0, 0, 0,\n",
              "       0, 1, 0, 1, 0, 0, 0, 0, 1, 1, 0, 0, 1, 0, 0, 0, 0, 0, 0, 1, 1, 0,\n",
              "       1, 0, 0, 0, 1, 0, 0, 0, 0, 1, 0, 0, 1, 0, 1, 0, 0, 0, 0, 1, 0, 0,\n",
              "       0, 0, 0])"
            ]
          },
          "metadata": {
            "tags": []
          },
          "execution_count": 24
        }
      ]
    },
    {
      "cell_type": "code",
      "metadata": {
        "id": "WO9CLFNo84i_",
        "colab_type": "code",
        "colab": {
          "base_uri": "https://localhost:8080/",
          "height": 34
        },
        "outputId": "bf7ec91c-6853-4521-daba-39c77c528d81"
      },
      "source": [
        "log_reg.predict(test_case)"
      ],
      "execution_count": 25,
      "outputs": [
        {
          "output_type": "execute_result",
          "data": {
            "text/plain": [
              "array([1])"
            ]
          },
          "metadata": {
            "tags": []
          },
          "execution_count": 25
        }
      ]
    },
    {
      "cell_type": "code",
      "metadata": {
        "id": "1N0GJqDL84jC",
        "colab_type": "code",
        "colab": {
          "base_uri": "https://localhost:8080/",
          "height": 34
        },
        "outputId": "23fcd37d-0c25-4be4-8516-e01a7eb5c763"
      },
      "source": [
        "log_reg.predict_proba(test_case)"
      ],
      "execution_count": 26,
      "outputs": [
        {
          "output_type": "execute_result",
          "data": {
            "text/plain": [
              "array([[0.02418324, 0.97581676]])"
            ]
          },
          "metadata": {
            "tags": []
          },
          "execution_count": 26
        }
      ]
    },
    {
      "cell_type": "code",
      "metadata": {
        "id": "2ehPJksM84jE",
        "colab_type": "code",
        "colab": {}
      },
      "source": [
        "# What's the math?\n",
        "log_reg.coef_"
      ],
      "execution_count": 0,
      "outputs": []
    },
    {
      "cell_type": "code",
      "metadata": {
        "id": "b9a0Sy3v84jI",
        "colab_type": "code",
        "colab": {}
      },
      "source": [
        "log_reg.intercept_"
      ],
      "execution_count": 0,
      "outputs": []
    },
    {
      "cell_type": "code",
      "metadata": {
        "id": "0SiUpLa584jL",
        "colab_type": "code",
        "colab": {}
      },
      "source": [
        "# The logistic sigmoid \"squishing\" function, implemented to accept numpy arrays\n",
        "import numpy as np\n",
        "\n",
        "def sigmoid(x):\n",
        "    return 1 / (1 + np.e**(-x))"
      ],
      "execution_count": 0,
      "outputs": []
    },
    {
      "cell_type": "code",
      "metadata": {
        "lines_to_next_cell": 2,
        "id": "Az2idbdA84jO",
        "colab_type": "code",
        "colab": {}
      },
      "source": [
        "sigmoid(log_reg.intercept_ + np.dot(log_reg.coef_, np.transpose(test_case)))"
      ],
      "execution_count": 0,
      "outputs": []
    },
    {
      "cell_type": "markdown",
      "metadata": {
        "id": "CH8KtwzS84jR",
        "colab_type": "text"
      },
      "source": [
        "So, clearly a more appropriate model in this situation! For more on the math, [see this Wikipedia example](https://en.wikipedia.org/wiki/Logistic_regression#Probability_of_passing_an_exam_versus_hours_of_study)."
      ]
    },
    {
      "cell_type": "markdown",
      "metadata": {
        "id": "z8RxSk8Y84jR",
        "colab_type": "text"
      },
      "source": [
        "# Use sklearn.linear_model.LogisticRegression to fit and interpret Logistic Regression models"
      ]
    },
    {
      "cell_type": "markdown",
      "metadata": {
        "id": "D1C2Qx3U84jS",
        "colab_type": "text"
      },
      "source": [
        "## Overview\n",
        "\n",
        "Now that we have more intuition and interpretation of Logistic Regression, let's use it within a realistic, complete scikit-learn workflow, with more features and transformations."
      ]
    },
    {
      "cell_type": "markdown",
      "metadata": {
        "id": "Lw_4f3Xw84jS",
        "colab_type": "text"
      },
      "source": [
        "## Follow Along\n",
        "\n",
        "Select these features: `['Pclass', 'Sex', 'Age', 'SibSp', 'Parch', 'Fare', 'Embarked']`\n",
        "\n",
        "(Why shouldn't we include the `Name` or `Ticket` features? What would happen here?) \n",
        "\n",
        "Fit this sequence of transformers & estimator:\n",
        "\n",
        "- [category_encoders.one_hot.OneHotEncoder](https://contrib.scikit-learn.org/categorical-encoding/onehot.html)\n",
        "- [sklearn.impute.SimpleImputer](https://scikit-learn.org/stable/modules/generated/sklearn.impute.SimpleImputer.html)\n",
        "- [sklearn.preprocessing.StandardScaler](https://scikit-learn.org/stable/modules/generated/sklearn.preprocessing.StandardScaler.html)\n",
        "- [sklearn.linear_model.LogisticRegressionCV](https://scikit-learn.org/stable/modules/generated/sklearn.linear_model.LogisticRegressionCV.html)\n",
        "\n",
        "Get validation accuracy."
      ]
    },
    {
      "cell_type": "code",
      "metadata": {
        "id": "JNbcyVAW84jT",
        "colab_type": "code",
        "colab": {}
      },
      "source": [
        ""
      ],
      "execution_count": 0,
      "outputs": []
    },
    {
      "cell_type": "markdown",
      "metadata": {
        "id": "tbzL217984jV",
        "colab_type": "text"
      },
      "source": [
        "Plot coefficients:"
      ]
    },
    {
      "cell_type": "code",
      "metadata": {
        "id": "SBy4UDcW84jW",
        "colab_type": "code",
        "colab": {}
      },
      "source": [
        ""
      ],
      "execution_count": 0,
      "outputs": []
    },
    {
      "cell_type": "markdown",
      "metadata": {
        "id": "PMXzUMuv84jY",
        "colab_type": "text"
      },
      "source": [
        "Generate [Kaggle](https://www.kaggle.com/c/titanic) submission:"
      ]
    },
    {
      "cell_type": "code",
      "metadata": {
        "id": "oM8fyp_c84jZ",
        "colab_type": "code",
        "colab": {}
      },
      "source": [
        ""
      ],
      "execution_count": 0,
      "outputs": []
    },
    {
      "cell_type": "markdown",
      "metadata": {
        "id": "9oNYUPGw84jc",
        "colab_type": "text"
      },
      "source": [
        "## Challenge\n",
        "\n",
        "You'll use Logistic Regression for your assignment, your Sprint Challenge, and optionally for your first model in our Kaggle challenge!"
      ]
    },
    {
      "cell_type": "markdown",
      "metadata": {
        "id": "l7K_RfMD84jd",
        "colab_type": "text"
      },
      "source": [
        "# Review\n",
        "\n",
        "For your assignment, you'll use a [**dataset of 400+ burrito reviews**](https://srcole.github.io/100burritos/). How accurately can you predict whether a burrito is rated 'Great'?\n",
        "\n",
        "> We have developed a 10-dimensional system for rating the burritos in San Diego. ... Generate models for what makes a burrito great and investigate correlations in its dimensions.\n",
        "\n",
        "- Do train/validate/test split. Train on reviews from 2016 & earlier. Validate on 2017. Test on 2018 & later.\n",
        "- Begin with baselines for classification.\n",
        "- Use scikit-learn for logistic regression.\n",
        "- Get your model's validation accuracy. (Multiple times if you try multiple iterations.)\n",
        "- Get your model's test accuracy. (One time, at the end.)\n",
        "- Commit your notebook to your fork of the GitHub repo.\n",
        "- Watch Aaron's [video #1](https://www.youtube.com/watch?v=pREaWFli-5I) (12 minutes) & [video #2](https://www.youtube.com/watch?v=bDQgVt4hFgY) (9 minutes) to learn about the mathematics of Logistic Regression."
      ]
    },
    {
      "cell_type": "markdown",
      "metadata": {
        "id": "RMJsq48U84jd",
        "colab_type": "text"
      },
      "source": [
        "# Sources\n",
        "- Brandon Rohrer, [Training, Validation, and Testing Data Sets](https://end-to-end-machine-learning.teachable.com/blog/146320/training-validation-testing-data-sets)\n",
        "- Hadley Wickham, [R for Data Science](https://r4ds.had.co.nz/model-intro.html#hypothesis-generation-vs.hypothesis-confirmation), Hypothesis generation vs. hypothesis confirmation\n",
        "- Hastie, Tibshirani, and Friedman, [The Elements of Statistical Learning](http://statweb.stanford.edu/~tibs/ElemStatLearn/), Chapter 7: Model Assessment and Selection\n",
        "- Mueller and Guido, [Introduction to Machine Learning with Python](https://books.google.com/books?id=1-4lDQAAQBAJ&pg=PA270), Chapter 5.2.2: The Danger of Overfitting the Parameters and the Validation Set\n",
        "- Provost and Fawcett, [Data Science for Business](https://books.google.com/books?id=4ZctAAAAQBAJ&pg=PT276), Chapter 7.3: Evaluation, Baseline Performance, and Implications for Investments in Data\n",
        "- Rachel Thomas, [How (and why) to create a good validation set](https://www.fast.ai/2017/11/13/validation-sets/)\n",
        "- Sebastian Raschka, [Model Evaluation](https://sebastianraschka.com/blog/2018/model-evaluation-selection-part4.html)\n",
        "- Will Koehrsen, [\"A baseline for classification can be the most common class in the training dataset.\"](https://twitter.com/koehrsen_will/status/1088863527778111488)"
      ]
    }
  ]
}